{
  "cells": [
    {
      "cell_type": "code",
      "execution_count": 1,
      "metadata": {
        "id": "M3wGgv04lcRd"
      },
      "outputs": [],
      "source": [
        "import pandas as pd\n",
        "import numpy as np\n",
        "import tensorflow as tf\n",
        "from tensorflow.keras.models import Model\n",
        "from tensorflow.keras.layers import Input, Embedding, Dense, Flatten, Concatenate, Dropout\n",
        "from sklearn.model_selection import train_test_split\n",
        "from sklearn.metrics import mean_squared_error, mean_absolute_error, accuracy_score, precision_score, recall_score, f1_score\n",
        "from tensorflow.keras import layers"
      ]
    },
    {
      "cell_type": "code",
      "source": [
        "# ✅ Register the custom Mean Squared Error (MSE) function\n",
        "@tf.keras.utils.register_keras_serializable()\n",
        "def mse(y_true, y_pred):\n",
        "    return tf.reduce_mean(tf.square(y_true - y_pred))"
      ],
      "metadata": {
        "id": "s2hUgHfHcC8j"
      },
      "execution_count": 2,
      "outputs": []
    },
    {
      "cell_type": "code",
      "execution_count": 3,
      "metadata": {
        "colab": {
          "base_uri": "https://localhost:8080/"
        },
        "id": "_HrfV-0zmVoQ",
        "outputId": "01d07348-f236-42fb-a6af-3badb5392176"
      },
      "outputs": [
        {
          "output_type": "stream",
          "name": "stdout",
          "text": [
            "Mounted at /content/drive\n"
          ]
        }
      ],
      "source": [
        "from google.colab import drive\n",
        "drive.mount('/content/drive')"
      ]
    },
    {
      "cell_type": "code",
      "execution_count": 4,
      "metadata": {
        "id": "zsP0xOT4lyeO"
      },
      "outputs": [],
      "source": [
        "# Load datasets\n",
        "movies = pd.read_csv(\"/content/drive/MyDrive/movies_metadata.csv\", low_memory=False)\n",
        "ratings = pd.read_csv(\"/content/drive/MyDrive/ratings.csv\")"
      ]
    },
    {
      "cell_type": "code",
      "execution_count": 5,
      "metadata": {
        "id": "iF2OCVkRmexS"
      },
      "outputs": [],
      "source": [
        "# Preprocessing movies dataset\n",
        "from ast import literal_eval\n",
        "movies['genres'] = movies['genres'].fillna('[]').apply(literal_eval).apply(lambda x: [i['name'] for i in x] if isinstance(x, list) else [])\n",
        "movies['genres'] = movies['genres'].apply(lambda x: ','.join(x))\n",
        "movies['release_year'] = pd.to_datetime(movies['release_date'], errors='coerce').dt.year\n"
      ]
    },
    {
      "cell_type": "code",
      "execution_count": 6,
      "metadata": {
        "id": "xYhGZ83cn1se"
      },
      "outputs": [],
      "source": [
        "# Merge movies and ratings\n",
        "movies['movieId'] = pd.to_numeric(movies['id'], errors='coerce')\n",
        "data = pd.merge(ratings, movies, on='movieId', how='inner')\n",
        "data = data[['userId', 'movieId', 'rating', 'title', 'genres', 'release_date']]\n",
        "data['release_year'] = pd.to_datetime(data['release_date'], errors='coerce').dt.year"
      ]
    },
    {
      "cell_type": "code",
      "execution_count": 7,
      "metadata": {
        "id": "ukCZLLKxn7Sa"
      },
      "outputs": [],
      "source": [
        "# Create mappings for embedding layers\n",
        "user_ids = data['userId'].unique()\n",
        "movie_ids = data['movieId'].unique()\n",
        "user_to_index = {user_id: i for i, user_id in enumerate(user_ids)}\n",
        "movie_to_index = {movie_id: i for i, movie_id in enumerate(movie_ids)}\n",
        "data['user_index'] = data['userId'].map(user_to_index)\n",
        "data['movie_index'] = data['movieId'].map(movie_to_index)"
      ]
    },
    {
      "cell_type": "code",
      "execution_count": 8,
      "metadata": {
        "id": "PdEzQToAoAq9"
      },
      "outputs": [],
      "source": [
        "# Prepare training data\n",
        "X = data[['user_index', 'movie_index']].values\n",
        "y = data['rating'].values\n",
        "X_train, X_test, y_train, y_test = train_test_split(X, y, test_size=0.2, random_state=42)"
      ]
    },
    {
      "cell_type": "code",
      "execution_count": 9,
      "metadata": {
        "id": "ZkVwpGQtoFaj"
      },
      "outputs": [],
      "source": [
        "def build_deepfm_model(num_users, num_movies, embedding_size=32):\n",
        "    # Input layers\n",
        "    user_input = Input(shape=(1,), name='user_input')\n",
        "    movie_input = Input(shape=(1,), name='movie_input')\n",
        "\n",
        "    # Embedding layers\n",
        "    user_embedding = Embedding(input_dim=num_users, output_dim=embedding_size, name='user_embedding')(user_input)\n",
        "    movie_embedding = Embedding(input_dim=num_movies, output_dim=embedding_size, name='movie_embedding')(movie_input)\n",
        "\n",
        "    # Flatten embeddings\n",
        "    user_vec = Flatten()(user_embedding)\n",
        "    movie_vec = Flatten()(movie_embedding)\n",
        "\n",
        "    # Factorization Machine (FM) layer\n",
        "    fm_interaction = layers.Multiply()([user_vec, movie_vec])  # Element-wise multiplication\n",
        "    fm_interaction = layers.Lambda(\n",
        "        lambda x: tf.reduce_sum(x, axis=1, keepdims=True),\n",
        "        output_shape=(1,)\n",
        "    )(fm_interaction)  # Summation with explicit output shape\n",
        "\n",
        "    # Concatenate embeddings\n",
        "    concatenated = Concatenate()([user_vec, movie_vec])\n",
        "\n",
        "    # Dense layers for DNN\n",
        "    x = Dense(128, activation='relu')(concatenated)\n",
        "    x = Dropout(0.3)(x)\n",
        "    x = Dense(64, activation='relu')(x)\n",
        "    x = Dropout(0.3)(x)\n",
        "    dnn_output = Dense(1)(x)\n",
        "\n",
        "    # Final output combining FM and DNN\n",
        "    output = tf.keras.layers.Add()([fm_interaction, dnn_output])\n",
        "\n",
        "    model = Model(inputs=[user_input, movie_input], outputs=output)\n",
        "    model.compile(optimizer='adam', loss='mse', metrics=['mae'])\n",
        "    return model"
      ]
    },
    {
      "cell_type": "code",
      "execution_count": 10,
      "metadata": {
        "colab": {
          "base_uri": "https://localhost:8080/"
        },
        "id": "mKohxzNgoF8Z",
        "outputId": "07016e2e-6935-4feb-b540-df8725b13b54"
      },
      "outputs": [
        {
          "output_type": "stream",
          "name": "stdout",
          "text": [
            "Epoch 1/20\n",
            "\u001b[1m35743/35743\u001b[0m \u001b[32m━━━━━━━━━━━━━━━━━━━━\u001b[0m\u001b[37m\u001b[0m \u001b[1m115s\u001b[0m 3ms/step - loss: 1.0141 - mae: 0.7683 - val_loss: 0.7457 - val_mae: 0.6588\n",
            "Epoch 2/20\n",
            "\u001b[1m35743/35743\u001b[0m \u001b[32m━━━━━━━━━━━━━━━━━━━━\u001b[0m\u001b[37m\u001b[0m \u001b[1m116s\u001b[0m 3ms/step - loss: 0.6983 - mae: 0.6366 - val_loss: 0.7024 - val_mae: 0.6405\n",
            "Epoch 3/20\n",
            "\u001b[1m35743/35743\u001b[0m \u001b[32m━━━━━━━━━━━━━━━━━━━━\u001b[0m\u001b[37m\u001b[0m \u001b[1m116s\u001b[0m 3ms/step - loss: 0.6176 - mae: 0.5921 - val_loss: 0.6917 - val_mae: 0.6336\n",
            "Epoch 4/20\n",
            "\u001b[1m35743/35743\u001b[0m \u001b[32m━━━━━━━━━━━━━━━━━━━━\u001b[0m\u001b[37m\u001b[0m \u001b[1m116s\u001b[0m 3ms/step - loss: 0.5591 - mae: 0.5581 - val_loss: 0.6983 - val_mae: 0.6378\n",
            "Epoch 5/20\n",
            "\u001b[1m35743/35743\u001b[0m \u001b[32m━━━━━━━━━━━━━━━━━━━━\u001b[0m\u001b[37m\u001b[0m \u001b[1m116s\u001b[0m 3ms/step - loss: 0.5236 - mae: 0.5364 - val_loss: 0.7028 - val_mae: 0.6375\n",
            "Epoch 6/20\n",
            "\u001b[1m35743/35743\u001b[0m \u001b[32m━━━━━━━━━━━━━━━━━━━━\u001b[0m\u001b[37m\u001b[0m \u001b[1m108s\u001b[0m 3ms/step - loss: 0.5024 - mae: 0.5225 - val_loss: 0.7101 - val_mae: 0.6409\n",
            "Epoch 6: early stopping\n",
            "Restoring model weights from the end of the best epoch: 3.\n"
          ]
        }
      ],
      "source": [
        "# Build and train the model\n",
        "num_users = len(user_ids)\n",
        "num_movies = len(movie_ids)\n",
        "model = build_deepfm_model(num_users, num_movies, embedding_size=16)\n",
        "\n",
        "from tensorflow.keras.callbacks import EarlyStopping\n",
        "\n",
        "early_stopping = EarlyStopping(monitor='val_loss', patience=3, restore_best_weights=True, verbose=1)\n",
        "\n",
        "history = model.fit([X_train[:, 0], X_train[:, 1]], y_train,\n",
        "                    validation_data=([X_test[:, 0], X_test[:, 1]], y_test),\n",
        "                    epochs=20, batch_size=256,\n",
        "                    callbacks=[early_stopping])"
      ]
    },
    {
      "cell_type": "code",
      "execution_count": 13,
      "metadata": {
        "colab": {
          "base_uri": "https://localhost:8080/"
        },
        "id": "gD6ttXD4oTYR",
        "outputId": "13b6f684-f4ca-45b8-ae89-46200cd186dc"
      },
      "outputs": [
        {
          "output_type": "stream",
          "name": "stdout",
          "text": [
            "\u001b[1m71486/71486\u001b[0m \u001b[32m━━━━━━━━━━━━━━━━━━━━\u001b[0m\u001b[37m\u001b[0m \u001b[1m120s\u001b[0m 2ms/step\n"
          ]
        },
        {
          "output_type": "stream",
          "name": "stderr",
          "text": [
            "WARNING:absl:You are saving your model as an HDF5 file via `model.save()` or `keras.saving.save_model(model)`. This file format is considered legacy. We recommend using instead the native Keras format, e.g. `model.save('my_model.keras')` or `keras.saving.save_model(model, 'my_model.keras')`. \n"
          ]
        },
        {
          "output_type": "stream",
          "name": "stdout",
          "text": [
            "Mean Squared Error (MSE): 0.7223467303548055\n",
            "Mean Absolute Error (MAE): 0.6475455631790543\n",
            "Accuracy: 0.7233791236653715\n",
            "Precision: 0.7060353214545102\n",
            "Model saved successfully as 'deepfm_model_fixed_registered.h5'.\n"
          ]
        }
      ],
      "source": [
        "# ✅ Compile the model with custom loss (important)\n",
        "model.compile(optimizer='adam', loss=mse, metrics=['mae'])\n",
        "\n",
        "# ✅ Re-evaluate model performance\n",
        "y_pred = model.predict([X_test[:, 0], X_test[:, 1]]).flatten()\n",
        "\n",
        "mse_value = mean_squared_error(y_test, y_pred)\n",
        "mae_value = mean_absolute_error(y_test, y_pred)\n",
        "\n",
        "y_test_binary = (y_test > 3.5).astype(int)\n",
        "y_pred_binary = (y_pred > 3.5).astype(int)\n",
        "\n",
        "accuracy = accuracy_score(y_test_binary, y_pred_binary)\n",
        "precision = precision_score(y_test_binary, y_pred_binary, zero_division=0)\n",
        "\n",
        "print(f\"Mean Squared Error (MSE): {mse_value}\")\n",
        "print(f\"Mean Absolute Error (MAE): {mae_value}\")\n",
        "print(f\"Accuracy: {accuracy}\")\n",
        "print(f\"Precision: {precision}\")\n",
        "\n",
        "# ✅ Save the trained model with registered mse\n",
        "model.save(\"deepfm_model_fixed_registered.h5\")\n",
        "print(\"Model saved successfully as 'deepfm_model_fixed_registered.h5'.\")"
      ]
    },
    {
      "cell_type": "code",
      "source": [
        "import pickle\n",
        "\n",
        "# Save the user-to-index mapping\n",
        "with open(\"user_to_index.pkl\", \"wb\") as f:\n",
        "    pickle.dump(user_to_index, f)\n",
        "print(\"User-to-index mapping saved successfully as 'user_to_index.pkl'.\")\n",
        "\n",
        "# Save the movie-to-index mapping\n",
        "with open(\"movie_to_index.pkl\", \"wb\") as f:\n",
        "    pickle.dump(movie_to_index, f)\n",
        "print(\"Movie-to-index mapping saved successfully as 'movie_to_index.pkl'.\")\n",
        "\n",
        "# Save the movie IDs (needed for recommendations)\n",
        "with open(\"movie_ids.pkl\", \"wb\") as f:\n",
        "    pickle.dump(movie_ids, f)\n",
        "print(\"Movie IDs saved successfully as 'movie_ids.pkl'.\")\n",
        "\n"
      ],
      "metadata": {
        "colab": {
          "base_uri": "https://localhost:8080/"
        },
        "id": "tH9cNGuRfIDd",
        "outputId": "845ce6e3-8d01-4162-bb55-67cbb05077b3"
      },
      "execution_count": 14,
      "outputs": [
        {
          "output_type": "stream",
          "name": "stdout",
          "text": [
            "User-to-index mapping saved successfully as 'user_to_index.pkl'.\n",
            "Movie-to-index mapping saved successfully as 'movie_to_index.pkl'.\n",
            "Movie IDs saved successfully as 'movie_ids.pkl'.\n"
          ]
        }
      ]
    },
    {
      "cell_type": "code",
      "source": [
        "import pickle\n",
        "from tensorflow.keras.models\n",
        "import load_model\n",
        "\n",
        "# Load the user-to-index mapping\n",
        "with open(\"user_to_index.pkl\", \"rb\") as f:\n",
        "    user_to_index = pickle.load(f)\n",
        "print(\"User-to-index mapping loaded successfully.\")\n",
        "\n",
        "# Load the movie-to-index mapping\n",
        "with open(\"movie_to_index.pkl\", \"rb\") as f:\n",
        "    movie_to_index = pickle.load(f)\n",
        "print(\"Movie-to-index mapping loaded successfully.\")\n",
        "\n",
        "# Load the movie IDs\n",
        "with open(\"movie_ids.pkl\", \"rb\") as f:\n",
        "    movie_ids = pickle.load(f)\n",
        "print(\"Movie IDs loaded successfully.\")\n"
      ],
      "metadata": {
        "id": "q4MTIAGre1pi",
        "colab": {
          "base_uri": "https://localhost:8080/"
        },
        "outputId": "37b2ee9c-70a8-4e0c-8bda-7113310e6355"
      },
      "execution_count": 16,
      "outputs": [
        {
          "output_type": "stream",
          "name": "stdout",
          "text": [
            "User-to-index mapping loaded successfully.\n",
            "Movie-to-index mapping loaded successfully.\n",
            "Movie IDs loaded successfully.\n"
          ]
        }
      ]
    },
    {
      "cell_type": "code",
      "execution_count": 17,
      "metadata": {
        "id": "Bl_iGoOkoTCF"
      },
      "outputs": [],
      "source": [
        "# Chatbot for recommendations\n",
        "def recommend_movies(user_id, top_n=5):\n",
        "    user_index = user_to_index.get(user_id, None)\n",
        "    if user_index is None:\n",
        "        return \"User not found.\"\n",
        "\n",
        "    all_movie_indices = np.arange(num_movies)\n",
        "    user_indices = np.full_like(all_movie_indices, user_index)\n",
        "\n",
        "    predictions = model.predict([user_indices, all_movie_indices]).flatten()\n",
        "    top_movie_indices = predictions.argsort()[-top_n:][::-1]\n",
        "\n",
        "    top_movies = [movie_ids[i] for i in top_movie_indices]\n",
        "    return movies[movies['movieId'].isin(top_movies)][['title', 'genres']]"
      ]
    },
    {
      "cell_type": "code",
      "execution_count": 18,
      "metadata": {
        "colab": {
          "base_uri": "https://localhost:8080/"
        },
        "id": "nry9XpRh1qp7",
        "outputId": "1b8ff247-cc8b-4ddf-cd64-9e86476533b4"
      },
      "outputs": [
        {
          "output_type": "stream",
          "name": "stdout",
          "text": [
            "Recommended movies for user:\n",
            "\u001b[1m237/237\u001b[0m \u001b[32m━━━━━━━━━━━━━━━━━━━━\u001b[0m\u001b[37m\u001b[0m \u001b[1m1s\u001b[0m 4ms/step\n",
            "                    title                           genres\n",
            "10625  Cinderella Liberty                    Drama,Romance\n",
            "11130          Miami Vice  Action,Adventure,Crime,Thriller\n",
            "11662                 300             Action,Adventure,War\n",
            "19929     Caesar Must Die                Drama,Documentary\n",
            "36791   Woman of the Lake                            Drama\n"
          ]
        }
      ],
      "source": [
        "# Example chatbot interaction\n",
        "user_id = 1  # Replace with dynamic input\n",
        "print(\"Recommended movies for user:\")\n",
        "print(recommend_movies(user_id))"
      ]
    },
    {
      "cell_type": "code",
      "execution_count": 19,
      "metadata": {
        "colab": {
          "base_uri": "https://localhost:8080/"
        },
        "id": "RZN6lpnq1wW8",
        "outputId": "59a72b55-f9f5-4079-8f54-fb25143b9dff"
      },
      "outputs": [
        {
          "output_type": "stream",
          "name": "stdout",
          "text": [
            "Recommended movies for user:\n",
            "\u001b[1m237/237\u001b[0m \u001b[32m━━━━━━━━━━━━━━━━━━━━\u001b[0m\u001b[37m\u001b[0m \u001b[1m0s\u001b[0m 1ms/step\n",
            "                          title                           genres\n",
            "286          Once Were Warriors                            Drama\n",
            "1651                  Afterglow             Drama,Romance,Comedy\n",
            "4020   The Million Dollar Hotel                   Drama,Thriller\n",
            "11130                Miami Vice  Action,Adventure,Crime,Thriller\n",
            "27971        The Shuttered Room             Drama,Mystery,Horror\n"
          ]
        }
      ],
      "source": [
        "# Example chatbot interaction\n",
        "user_id = 3  # Replace with dynamic input\n",
        "print(\"Recommended movies for user:\")\n",
        "print(recommend_movies(user_id))"
      ]
    },
    {
      "cell_type": "code",
      "source": [
        "def recommend_for_new_user(top_n=5):\n",
        "    popular_movies = data.groupby('movieId').agg({'rating': 'mean'}).sort_values('rating', ascending=False)\n",
        "    top_movies = popular_movies.head(top_n).index\n",
        "    return movies[movies['movieId'].isin(top_movies)][['title', 'genres']]\n",
        "\n",
        "print(\"Cold Start Recommendations:\")\n",
        "print(recommend_for_new_user())"
      ],
      "metadata": {
        "colab": {
          "base_uri": "https://localhost:8080/"
        },
        "id": "T7uKf-PO3qum",
        "outputId": "938ac406-ad23-45e1-9a0e-06176be94df4"
      },
      "execution_count": 20,
      "outputs": [
        {
          "output_type": "stream",
          "name": "stdout",
          "text": [
            "Cold Start Recommendations:\n",
            "                                        title                    genres\n",
            "13621                  The Man Behind The Gun                   Western\n",
            "22518                                  Harvey                   Fantasy\n",
            "31620                                  Brutal                     Crime\n",
            "37655                    Palermo or Wolfsburg                          \n",
            "43733  Monster High: Escape from Skull Shores  Animation,Family,Fantasy\n"
          ]
        }
      ]
    },
    {
      "cell_type": "code",
      "execution_count": 21,
      "metadata": {
        "id": "m8-UgYo7q4Ji"
      },
      "outputs": [],
      "source": [
        "# Recommend popular movies in a specific genre\n",
        "def recommend_popular_movies_in_genre(genre, top_n=5):\n",
        "    genre_movies = movies[movies['genres'].apply(lambda genres: genre in genres)]\n",
        "    top_movies = genre_movies.sort_values(by='popularity', ascending=False).head(top_n)\n",
        "    print(f\"Top {top_n} popular movies in genre '{genre}':\\n\", top_movies[['title', 'popularity']])\n",
        "    return top_movies[['title', 'popularity']]"
      ]
    },
    {
      "cell_type": "code",
      "execution_count": 22,
      "metadata": {
        "colab": {
          "base_uri": "https://localhost:8080/",
          "height": 327
        },
        "id": "7_wk3xSPsg9n",
        "outputId": "03d6d9b1-4024-4ae7-9319-adcd7482f85e"
      },
      "outputs": [
        {
          "output_type": "stream",
          "name": "stdout",
          "text": [
            "Top 5 popular movies in genre 'Drama':\n",
            "                    title popularity\n",
            "34313  Chameli Ki Shaadi      9e-06\n",
            "536         Blade Runner  96.272374\n",
            "10517            Jarhead   9.997032\n",
            "11252      The Last Kiss   9.996541\n",
            "18029        Dream House   9.995617\n"
          ]
        },
        {
          "output_type": "execute_result",
          "data": {
            "text/plain": [
              "                   title popularity\n",
              "34313  Chameli Ki Shaadi      9e-06\n",
              "536         Blade Runner  96.272374\n",
              "10517            Jarhead   9.997032\n",
              "11252      The Last Kiss   9.996541\n",
              "18029        Dream House   9.995617"
            ],
            "text/html": [
              "\n",
              "  <div id=\"df-e087ad72-d084-4476-8fb7-c8a079c3d728\" class=\"colab-df-container\">\n",
              "    <div>\n",
              "<style scoped>\n",
              "    .dataframe tbody tr th:only-of-type {\n",
              "        vertical-align: middle;\n",
              "    }\n",
              "\n",
              "    .dataframe tbody tr th {\n",
              "        vertical-align: top;\n",
              "    }\n",
              "\n",
              "    .dataframe thead th {\n",
              "        text-align: right;\n",
              "    }\n",
              "</style>\n",
              "<table border=\"1\" class=\"dataframe\">\n",
              "  <thead>\n",
              "    <tr style=\"text-align: right;\">\n",
              "      <th></th>\n",
              "      <th>title</th>\n",
              "      <th>popularity</th>\n",
              "    </tr>\n",
              "  </thead>\n",
              "  <tbody>\n",
              "    <tr>\n",
              "      <th>34313</th>\n",
              "      <td>Chameli Ki Shaadi</td>\n",
              "      <td>9e-06</td>\n",
              "    </tr>\n",
              "    <tr>\n",
              "      <th>536</th>\n",
              "      <td>Blade Runner</td>\n",
              "      <td>96.272374</td>\n",
              "    </tr>\n",
              "    <tr>\n",
              "      <th>10517</th>\n",
              "      <td>Jarhead</td>\n",
              "      <td>9.997032</td>\n",
              "    </tr>\n",
              "    <tr>\n",
              "      <th>11252</th>\n",
              "      <td>The Last Kiss</td>\n",
              "      <td>9.996541</td>\n",
              "    </tr>\n",
              "    <tr>\n",
              "      <th>18029</th>\n",
              "      <td>Dream House</td>\n",
              "      <td>9.995617</td>\n",
              "    </tr>\n",
              "  </tbody>\n",
              "</table>\n",
              "</div>\n",
              "    <div class=\"colab-df-buttons\">\n",
              "\n",
              "  <div class=\"colab-df-container\">\n",
              "    <button class=\"colab-df-convert\" onclick=\"convertToInteractive('df-e087ad72-d084-4476-8fb7-c8a079c3d728')\"\n",
              "            title=\"Convert this dataframe to an interactive table.\"\n",
              "            style=\"display:none;\">\n",
              "\n",
              "  <svg xmlns=\"http://www.w3.org/2000/svg\" height=\"24px\" viewBox=\"0 -960 960 960\">\n",
              "    <path d=\"M120-120v-720h720v720H120Zm60-500h600v-160H180v160Zm220 220h160v-160H400v160Zm0 220h160v-160H400v160ZM180-400h160v-160H180v160Zm440 0h160v-160H620v160ZM180-180h160v-160H180v160Zm440 0h160v-160H620v160Z\"/>\n",
              "  </svg>\n",
              "    </button>\n",
              "\n",
              "  <style>\n",
              "    .colab-df-container {\n",
              "      display:flex;\n",
              "      gap: 12px;\n",
              "    }\n",
              "\n",
              "    .colab-df-convert {\n",
              "      background-color: #E8F0FE;\n",
              "      border: none;\n",
              "      border-radius: 50%;\n",
              "      cursor: pointer;\n",
              "      display: none;\n",
              "      fill: #1967D2;\n",
              "      height: 32px;\n",
              "      padding: 0 0 0 0;\n",
              "      width: 32px;\n",
              "    }\n",
              "\n",
              "    .colab-df-convert:hover {\n",
              "      background-color: #E2EBFA;\n",
              "      box-shadow: 0px 1px 2px rgba(60, 64, 67, 0.3), 0px 1px 3px 1px rgba(60, 64, 67, 0.15);\n",
              "      fill: #174EA6;\n",
              "    }\n",
              "\n",
              "    .colab-df-buttons div {\n",
              "      margin-bottom: 4px;\n",
              "    }\n",
              "\n",
              "    [theme=dark] .colab-df-convert {\n",
              "      background-color: #3B4455;\n",
              "      fill: #D2E3FC;\n",
              "    }\n",
              "\n",
              "    [theme=dark] .colab-df-convert:hover {\n",
              "      background-color: #434B5C;\n",
              "      box-shadow: 0px 1px 3px 1px rgba(0, 0, 0, 0.15);\n",
              "      filter: drop-shadow(0px 1px 2px rgba(0, 0, 0, 0.3));\n",
              "      fill: #FFFFFF;\n",
              "    }\n",
              "  </style>\n",
              "\n",
              "    <script>\n",
              "      const buttonEl =\n",
              "        document.querySelector('#df-e087ad72-d084-4476-8fb7-c8a079c3d728 button.colab-df-convert');\n",
              "      buttonEl.style.display =\n",
              "        google.colab.kernel.accessAllowed ? 'block' : 'none';\n",
              "\n",
              "      async function convertToInteractive(key) {\n",
              "        const element = document.querySelector('#df-e087ad72-d084-4476-8fb7-c8a079c3d728');\n",
              "        const dataTable =\n",
              "          await google.colab.kernel.invokeFunction('convertToInteractive',\n",
              "                                                    [key], {});\n",
              "        if (!dataTable) return;\n",
              "\n",
              "        const docLinkHtml = 'Like what you see? Visit the ' +\n",
              "          '<a target=\"_blank\" href=https://colab.research.google.com/notebooks/data_table.ipynb>data table notebook</a>'\n",
              "          + ' to learn more about interactive tables.';\n",
              "        element.innerHTML = '';\n",
              "        dataTable['output_type'] = 'display_data';\n",
              "        await google.colab.output.renderOutput(dataTable, element);\n",
              "        const docLink = document.createElement('div');\n",
              "        docLink.innerHTML = docLinkHtml;\n",
              "        element.appendChild(docLink);\n",
              "      }\n",
              "    </script>\n",
              "  </div>\n",
              "\n",
              "\n",
              "<div id=\"df-d3ac65c9-f934-4a52-98f2-f3c80e2509da\">\n",
              "  <button class=\"colab-df-quickchart\" onclick=\"quickchart('df-d3ac65c9-f934-4a52-98f2-f3c80e2509da')\"\n",
              "            title=\"Suggest charts\"\n",
              "            style=\"display:none;\">\n",
              "\n",
              "<svg xmlns=\"http://www.w3.org/2000/svg\" height=\"24px\"viewBox=\"0 0 24 24\"\n",
              "     width=\"24px\">\n",
              "    <g>\n",
              "        <path d=\"M19 3H5c-1.1 0-2 .9-2 2v14c0 1.1.9 2 2 2h14c1.1 0 2-.9 2-2V5c0-1.1-.9-2-2-2zM9 17H7v-7h2v7zm4 0h-2V7h2v10zm4 0h-2v-4h2v4z\"/>\n",
              "    </g>\n",
              "</svg>\n",
              "  </button>\n",
              "\n",
              "<style>\n",
              "  .colab-df-quickchart {\n",
              "      --bg-color: #E8F0FE;\n",
              "      --fill-color: #1967D2;\n",
              "      --hover-bg-color: #E2EBFA;\n",
              "      --hover-fill-color: #174EA6;\n",
              "      --disabled-fill-color: #AAA;\n",
              "      --disabled-bg-color: #DDD;\n",
              "  }\n",
              "\n",
              "  [theme=dark] .colab-df-quickchart {\n",
              "      --bg-color: #3B4455;\n",
              "      --fill-color: #D2E3FC;\n",
              "      --hover-bg-color: #434B5C;\n",
              "      --hover-fill-color: #FFFFFF;\n",
              "      --disabled-bg-color: #3B4455;\n",
              "      --disabled-fill-color: #666;\n",
              "  }\n",
              "\n",
              "  .colab-df-quickchart {\n",
              "    background-color: var(--bg-color);\n",
              "    border: none;\n",
              "    border-radius: 50%;\n",
              "    cursor: pointer;\n",
              "    display: none;\n",
              "    fill: var(--fill-color);\n",
              "    height: 32px;\n",
              "    padding: 0;\n",
              "    width: 32px;\n",
              "  }\n",
              "\n",
              "  .colab-df-quickchart:hover {\n",
              "    background-color: var(--hover-bg-color);\n",
              "    box-shadow: 0 1px 2px rgba(60, 64, 67, 0.3), 0 1px 3px 1px rgba(60, 64, 67, 0.15);\n",
              "    fill: var(--button-hover-fill-color);\n",
              "  }\n",
              "\n",
              "  .colab-df-quickchart-complete:disabled,\n",
              "  .colab-df-quickchart-complete:disabled:hover {\n",
              "    background-color: var(--disabled-bg-color);\n",
              "    fill: var(--disabled-fill-color);\n",
              "    box-shadow: none;\n",
              "  }\n",
              "\n",
              "  .colab-df-spinner {\n",
              "    border: 2px solid var(--fill-color);\n",
              "    border-color: transparent;\n",
              "    border-bottom-color: var(--fill-color);\n",
              "    animation:\n",
              "      spin 1s steps(1) infinite;\n",
              "  }\n",
              "\n",
              "  @keyframes spin {\n",
              "    0% {\n",
              "      border-color: transparent;\n",
              "      border-bottom-color: var(--fill-color);\n",
              "      border-left-color: var(--fill-color);\n",
              "    }\n",
              "    20% {\n",
              "      border-color: transparent;\n",
              "      border-left-color: var(--fill-color);\n",
              "      border-top-color: var(--fill-color);\n",
              "    }\n",
              "    30% {\n",
              "      border-color: transparent;\n",
              "      border-left-color: var(--fill-color);\n",
              "      border-top-color: var(--fill-color);\n",
              "      border-right-color: var(--fill-color);\n",
              "    }\n",
              "    40% {\n",
              "      border-color: transparent;\n",
              "      border-right-color: var(--fill-color);\n",
              "      border-top-color: var(--fill-color);\n",
              "    }\n",
              "    60% {\n",
              "      border-color: transparent;\n",
              "      border-right-color: var(--fill-color);\n",
              "    }\n",
              "    80% {\n",
              "      border-color: transparent;\n",
              "      border-right-color: var(--fill-color);\n",
              "      border-bottom-color: var(--fill-color);\n",
              "    }\n",
              "    90% {\n",
              "      border-color: transparent;\n",
              "      border-bottom-color: var(--fill-color);\n",
              "    }\n",
              "  }\n",
              "</style>\n",
              "\n",
              "  <script>\n",
              "    async function quickchart(key) {\n",
              "      const quickchartButtonEl =\n",
              "        document.querySelector('#' + key + ' button');\n",
              "      quickchartButtonEl.disabled = true;  // To prevent multiple clicks.\n",
              "      quickchartButtonEl.classList.add('colab-df-spinner');\n",
              "      try {\n",
              "        const charts = await google.colab.kernel.invokeFunction(\n",
              "            'suggestCharts', [key], {});\n",
              "      } catch (error) {\n",
              "        console.error('Error during call to suggestCharts:', error);\n",
              "      }\n",
              "      quickchartButtonEl.classList.remove('colab-df-spinner');\n",
              "      quickchartButtonEl.classList.add('colab-df-quickchart-complete');\n",
              "    }\n",
              "    (() => {\n",
              "      let quickchartButtonEl =\n",
              "        document.querySelector('#df-d3ac65c9-f934-4a52-98f2-f3c80e2509da button');\n",
              "      quickchartButtonEl.style.display =\n",
              "        google.colab.kernel.accessAllowed ? 'block' : 'none';\n",
              "    })();\n",
              "  </script>\n",
              "</div>\n",
              "\n",
              "    </div>\n",
              "  </div>\n"
            ],
            "application/vnd.google.colaboratory.intrinsic+json": {
              "type": "dataframe",
              "summary": "{\n  \"name\": \"recommend_popular_movies_in_genre(\\\"Drama\\\")\",\n  \"rows\": 5,\n  \"fields\": [\n    {\n      \"column\": \"title\",\n      \"properties\": {\n        \"dtype\": \"string\",\n        \"num_unique_values\": 5,\n        \"samples\": [\n          \"Blade Runner\",\n          \"Dream House\",\n          \"Jarhead\"\n        ],\n        \"semantic_type\": \"\",\n        \"description\": \"\"\n      }\n    },\n    {\n      \"column\": \"popularity\",\n      \"properties\": {\n        \"dtype\": \"string\",\n        \"num_unique_values\": 5,\n        \"samples\": [\n          \"96.272374\",\n          \"9.995617\",\n          \"9.997032\"\n        ],\n        \"semantic_type\": \"\",\n        \"description\": \"\"\n      }\n    }\n  ]\n}"
            }
          },
          "metadata": {},
          "execution_count": 22
        }
      ],
      "source": [
        "recommend_popular_movies_in_genre(\"Drama\")"
      ]
    },
    {
      "cell_type": "code",
      "execution_count": 23,
      "metadata": {
        "id": "WKHfWTqX4rac"
      },
      "outputs": [],
      "source": [
        "# Recommend movies based on release year\n",
        "def recommend_movies_by_year(user_id, release_year, top_n=5):\n",
        "    user_index = user_to_index.get(user_id, None)\n",
        "    if user_index is None:\n",
        "        return \"User not found.\"\n",
        "\n",
        "    filtered_movies = movies[movies['release_year'] == release_year]\n",
        "    if filtered_movies.empty:\n",
        "        return f\"No movies found for the year {release_year}.\"\n",
        "\n",
        "    movie_indices = filtered_movies['movieId'].map(movie_to_index).dropna().astype(int).values\n",
        "    user_indices = np.full_like(movie_indices, user_index)\n",
        "\n",
        "    predictions = model.predict([user_indices, movie_indices]).flatten()\n",
        "    top_movie_indices = predictions.argsort()[-top_n:][::-1]\n",
        "\n",
        "    top_movies = [movie_ids[i] for i in top_movie_indices if i < len(movie_ids)]\n",
        "    return movies[movies['movieId'].isin(top_movies)][['title', 'genres']]"
      ]
    },
    {
      "cell_type": "code",
      "execution_count": 24,
      "metadata": {
        "colab": {
          "base_uri": "https://localhost:8080/"
        },
        "id": "zMfGAR964usX",
        "outputId": "a901d66e-a27e-4113-c7d2-2c70700f92cb"
      },
      "outputs": [
        {
          "output_type": "stream",
          "name": "stdout",
          "text": [
            "Recommended movies for user by year:\n",
            "\u001b[1m6/6\u001b[0m \u001b[32m━━━━━━━━━━━━━━━━━━━━\u001b[0m\u001b[37m\u001b[0m \u001b[1m0s\u001b[0m 77ms/step\n",
            "                               title                genres\n",
            "495                   Mrs. Doubtfire   Comedy,Drama,Family\n",
            "3144   Twin Peaks: Fire Walk with Me         Drama,Mystery\n",
            "5740                     Talk to Her         Drama,Romance\n",
            "8146          The Motorcycle Diaries                 Drama\n",
            "33216                          Sissi  Comedy,Drama,Romance\n"
          ]
        }
      ],
      "source": [
        "# Example chatbot interaction\n",
        "user_id = 2\n",
        "\n",
        "print(\"Recommended movies for user by year:\")\n",
        "print(recommend_movies_by_year(user_id, release_year=2000))"
      ]
    }
  ],
  "metadata": {
    "accelerator": "GPU",
    "colab": {
      "gpuType": "T4",
      "provenance": []
    },
    "kernelspec": {
      "display_name": "Python 3",
      "name": "python3"
    },
    "language_info": {
      "name": "python"
    }
  },
  "nbformat": 4,
  "nbformat_minor": 0
}