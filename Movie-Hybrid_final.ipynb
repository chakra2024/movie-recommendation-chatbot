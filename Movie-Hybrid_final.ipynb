{
 "cells": [
  {
   "cell_type": "code",
   "execution_count": 2,
   "metadata": {
    "colab": {
     "base_uri": "https://localhost:8080/"
    },
    "executionInfo": {
     "elapsed": 105870,
     "status": "ok",
     "timestamp": 1738098140332,
     "user": {
      "displayName": "Soham Chakraborty",
      "userId": "12202572108961383359"
     },
     "user_tz": -60
    },
    "id": "CKOcRiGKp_ze",
    "outputId": "ee4d7b44-a877-4328-e32b-12462585077f"
   },
   "outputs": [
    {
     "name": "stdout",
     "output_type": "stream",
     "text": [
      "Collecting scikit-surprise\n",
      "  Downloading scikit_surprise-1.1.4.tar.gz (154 kB)\n",
      "\u001b[?25l     \u001b[90m━━━━━━━━━━━━━━━━━━━━━━━━━━━━━━━━━━━━━━━━\u001b[0m \u001b[32m0.0/154.4 kB\u001b[0m \u001b[31m?\u001b[0m eta \u001b[36m-:--:--\u001b[0m\r\u001b[2K     \u001b[91m━━━━━━━━━━━━━━━━━━━━━━━━━━━━━\u001b[0m\u001b[90m╺\u001b[0m\u001b[90m━━━━━━━━━━\u001b[0m \u001b[32m112.6/154.4 kB\u001b[0m \u001b[31m4.7 MB/s\u001b[0m eta \u001b[36m0:00:01\u001b[0m\r\u001b[2K     \u001b[90m━━━━━━━━━━━━━━━━━━━━━━━━━━━━━━━━━━━━━━━━\u001b[0m \u001b[32m154.4/154.4 kB\u001b[0m \u001b[31m2.8 MB/s\u001b[0m eta \u001b[36m0:00:00\u001b[0m\n",
      "\u001b[?25h  Installing build dependencies ... \u001b[?25l\u001b[?25hdone\n",
      "  Getting requirements to build wheel ... \u001b[?25l\u001b[?25hdone\n",
      "  Preparing metadata (pyproject.toml) ... \u001b[?25l\u001b[?25hdone\n",
      "Requirement already satisfied: joblib>=1.2.0 in /usr/local/lib/python3.11/dist-packages (from scikit-surprise) (1.4.2)\n",
      "Requirement already satisfied: numpy>=1.19.5 in /usr/local/lib/python3.11/dist-packages (from scikit-surprise) (1.26.4)\n",
      "Requirement already satisfied: scipy>=1.6.0 in /usr/local/lib/python3.11/dist-packages (from scikit-surprise) (1.13.1)\n",
      "Building wheels for collected packages: scikit-surprise\n",
      "  Building wheel for scikit-surprise (pyproject.toml) ... \u001b[?25l\u001b[?25hdone\n",
      "  Created wheel for scikit-surprise: filename=scikit_surprise-1.1.4-cp311-cp311-linux_x86_64.whl size=2505173 sha256=92cf3dcdce475fef123b66c11e0201c2fdbd3a7e21de8dc3d796972d2591c177\n",
      "  Stored in directory: /root/.cache/pip/wheels/2a/8f/6e/7e2899163e2d85d8266daab4aa1cdabec7a6c56f83c015b5af\n",
      "Successfully built scikit-surprise\n",
      "Installing collected packages: scikit-surprise\n",
      "Successfully installed scikit-surprise-1.1.4\n"
     ]
    }
   ],
   "source": [
    "#!pip install scikit-surprise"
   ]
  },
  {
   "cell_type": "code",
   "execution_count": 1,
   "metadata": {
    "executionInfo": {
     "elapsed": 24575,
     "status": "ok",
     "timestamp": 1738098208169,
     "user": {
      "displayName": "Soham Chakraborty",
      "userId": "12202572108961383359"
     },
     "user_tz": -60
    },
    "id": "GY0gHIS5BDMI"
   },
   "outputs": [
    {
     "name": "stderr",
     "output_type": "stream",
     "text": [
      "c:\\Users\\SOHAM\\anaconda3\\envs\\movie_rec_env\\lib\\site-packages\\tqdm\\auto.py:21: TqdmWarning: IProgress not found. Please update jupyter and ipywidgets. See https://ipywidgets.readthedocs.io/en/stable/user_install.html\n",
      "  from .autonotebook import tqdm as notebook_tqdm\n"
     ]
    }
   ],
   "source": [
    "import pandas as pd\n",
    "import numpy as np\n",
    "import tensorflow as tf\n",
    "from tensorflow.keras import layers, Model\n",
    "from sklearn.model_selection import train_test_split\n",
    "from sklearn.metrics import mean_squared_error, mean_absolute_error, precision_score\n",
    "from sklearn.preprocessing import MinMaxScaler\n",
    "from surprise import SVD, Dataset, Reader\n",
    "import ast\n",
    "import torch\n",
    "import pickle\n",
    "import os\n",
    "from transformers import AutoTokenizer, AutoModel\n",
    "from sklearn.metrics.pairwise import cosine_similarity\n"
   ]
  },
  {
   "cell_type": "code",
   "execution_count": 3,
   "metadata": {
    "executionInfo": {
     "elapsed": 28791,
     "status": "ok",
     "timestamp": 1738098240227,
     "user": {
      "displayName": "Soham Chakraborty",
      "userId": "12202572108961383359"
     },
     "user_tz": -60
    },
    "id": "ZcxTKsaXHjyK"
   },
   "outputs": [],
   "source": [
    "\n",
    "# Define project path\n",
    "PROJECT_PATH = r\"C:\\Users\\SOHAM\\Movie Recommendation System\"\n",
    "DATA_PATH = os.path.join(PROJECT_PATH, \"data\")\n",
    "MODELS_PATH = os.path.join(PROJECT_PATH, \"models\")\n",
    "\n",
    "MOVIES_PATH = os.path.join(DATA_PATH, \"movies_metadata.csv\")\n",
    "RATINGS_PATH = os.path.join(DATA_PATH, \"ratings.csv\")\n",
    "CREDITS_PATH = os.path.join(DATA_PATH, \"credits.csv\")\n",
    "KEYWORDS_PATH = os.path.join(DATA_PATH, \"keywords.csv\")\n",
    "\n",
    "#  Load datasets \n",
    "movies = pd.read_csv(MOVIES_PATH, low_memory=False)\n",
    "ratings = pd.read_csv(RATINGS_PATH)\n",
    "credits = pd.read_csv(CREDITS_PATH)\n",
    "keywords = pd.read_csv(KEYWORDS_PATH)"
   ]
  },
  {
   "cell_type": "markdown",
   "metadata": {
    "id": "6Xe9V1nFrLvx"
   },
   "source": [
    "# Preprocessing"
   ]
  },
  {
   "cell_type": "code",
   "execution_count": 6,
   "metadata": {
    "executionInfo": {
     "elapsed": 2570,
     "status": "ok",
     "timestamp": 1738098327172,
     "user": {
      "displayName": "Soham Chakraborty",
      "userId": "12202572108961383359"
     },
     "user_tz": -60
    },
    "id": "Xm_A8Me_nSab"
   },
   "outputs": [
    {
     "name": "stderr",
     "output_type": "stream",
     "text": [
      "C:\\Users\\SOHAM\\AppData\\Local\\Temp\\ipykernel_9644\\1491067000.py:13: UserWarning: Parsing dates in %d-%m-%Y format when dayfirst=False (the default) was specified. Pass `dayfirst=True` or specify a format to silence this warning.\n",
      "  movies['release_date'] = pd.to_datetime(movies['release_date'], errors='coerce')\n"
     ]
    }
   ],
   "source": [
    "# Preprocess movies_metadata.csv\n",
    "movies = movies[['id', 'title', 'genres', 'release_date', 'popularity']].copy()\n",
    "movies['id'] = pd.to_numeric(movies['id'], errors='coerce')\n",
    "movies['popularity'] = pd.to_numeric(movies['popularity'], errors='coerce')\n",
    "movies = movies.dropna(subset=['id', 'popularity'])\n",
    "\n",
    "# Process genres\n",
    "movies['genres'] = movies['genres'].fillna('[]').apply(\n",
    "    lambda x: [i['name'] for i in ast.literal_eval(x)] if isinstance(x, str) and x.startswith('[') else []\n",
    ")\n",
    "\n",
    "# Extract release year\n",
    "movies['release_date'] = pd.to_datetime(movies['release_date'], errors='coerce')\n",
    "movies['release_year'] = movies['release_date'].dt.year\n",
    "\n",
    "# Ensure consistent data type for 'id'\n",
    "movies['id'] = pd.to_numeric(movies['id'], errors='coerce')\n",
    "credits['id'] = pd.to_numeric(credits['id'], errors='coerce')\n",
    "keywords['id'] = pd.to_numeric(keywords['id'], errors='coerce')\n",
    "\n",
    "# Drop rows with NaN values in 'id'\n",
    "movies = movies.dropna(subset=['id']).reset_index(drop=True)\n",
    "credits = credits.dropna(subset=['id']).reset_index(drop=True)\n",
    "keywords = keywords.dropna(subset=['id']).reset_index(drop=True)"
   ]
  },
  {
   "cell_type": "code",
   "execution_count": 7,
   "metadata": {
    "executionInfo": {
     "elapsed": 44985,
     "status": "ok",
     "timestamp": 1738098378566,
     "user": {
      "displayName": "Soham Chakraborty",
      "userId": "12202572108961383359"
     },
     "user_tz": -60
    },
    "id": "wKCJnSfgBSuP"
   },
   "outputs": [],
   "source": [
    "# Process credits.csv\n",
    "def extract_top_cast(cast_data, top_n=3):\n",
    "    try:\n",
    "        cast = ast.literal_eval(cast_data)\n",
    "        return ', '.join([c['name'] for c in cast[:top_n]])\n",
    "    except:\n",
    "        return ''  # Return empty string to avoid KeyError\n",
    "\n",
    "def extract_directors(crew_data):\n",
    "    try:\n",
    "        crew = ast.literal_eval(crew_data)\n",
    "        return ', '.join([c['name'] for c in crew if c['job'] == 'Director'])\n",
    "    except:\n",
    "        return ''  # Return empty string to avoid KeyError\n",
    "\n",
    "credits['top_cast'] = credits['cast'].apply(lambda x: extract_top_cast(x, top_n=3))\n",
    "credits['director'] = credits['crew'].apply(extract_directors)\n",
    "credits = credits[['id', 'top_cast', 'director']]"
   ]
  },
  {
   "cell_type": "code",
   "execution_count": 8,
   "metadata": {
    "executionInfo": {
     "elapsed": 3927,
     "status": "ok",
     "timestamp": 1738098426208,
     "user": {
      "displayName": "Soham Chakraborty",
      "userId": "12202572108961383359"
     },
     "user_tz": -60
    },
    "id": "Y6rw73DwGvzY"
   },
   "outputs": [],
   "source": [
    "# Process keywords.csv\n",
    "def extract_keywords(keywords_data, top_n=10):\n",
    "    try:\n",
    "        if pd.isna(keywords_data) or keywords_data == '':\n",
    "            return ''\n",
    "        keywords_list = ast.literal_eval(keywords_data)\n",
    "        return ', '.join([k['name'] for k in keywords_list[:top_n]])\n",
    "    except:\n",
    "        return ''\n",
    "\n",
    "keywords['keywords_str'] = keywords['keywords'].apply(lambda x: extract_keywords(x, top_n=10))\n",
    "keywords = keywords[['id', 'keywords_str']]\n"
   ]
  },
  {
   "cell_type": "code",
   "execution_count": 9,
   "metadata": {
    "executionInfo": {
     "elapsed": 35394,
     "status": "ok",
     "timestamp": 1738098465767,
     "user": {
      "displayName": "Soham Chakraborty",
      "userId": "12202572108961383359"
     },
     "user_tz": -60
    },
    "id": "PvP2yQMLkFC6"
   },
   "outputs": [],
   "source": [
    "# Merge datasets\n",
    "movies = movies.merge(credits, left_on='id', right_on='id', how='left')\n",
    "movies = movies.merge(keywords, left_on='id', right_on='id', how='left')\n",
    "\n",
    "# Replace NaN values with empty strings\n",
    "movies = movies.fillna('')\n",
    "\n",
    "# Create combined features for embeddings\n",
    "movies['genres_str'] = movies['genres'].apply(lambda x: ', '.join(x) if isinstance(x, list) else '')\n",
    "movies['combined_features'] = (\n",
    "    movies['genres_str'] + ', ' +\n",
    "    movies['top_cast'] + ', ' +\n",
    "    movies['director'] + ', ' +\n",
    "    movies['keywords_str']\n",
    ")\n",
    "\n",
    "# Process ratings.csv\n",
    "ratings = ratings.drop_duplicates().dropna()\n",
    "ratings['userId'] = ratings['userId'].astype(int)\n",
    "ratings['movieId'] = ratings['movieId'].astype(int)\n",
    "\n",
    "# Filter for valid movieIds\n",
    "valid_movie_ids = movies['id'].unique()\n",
    "ratings = ratings[ratings['movieId'].isin(valid_movie_ids)]\n",
    "\n",
    "# Merge with ratings\n",
    "movies_ratings = ratings.merge(\n",
    "    movies[['id', 'title', 'genres_str', 'popularity', 'release_year', 'combined_features']],\n",
    "    left_on='movieId',\n",
    "    right_on='id',\n",
    "    how='inner'\n",
    ")\n",
    "\n",
    "# Final columns for training\n",
    "movies_ratings = movies_ratings[['userId', 'movieId', 'rating', 'title', 'genres_str', 'popularity', 'release_year', 'combined_features']].copy()\n"
   ]
  },
  {
   "cell_type": "code",
   "execution_count": 10,
   "metadata": {
    "colab": {
     "base_uri": "https://localhost:8080/",
     "height": 206
    },
    "executionInfo": {
     "elapsed": 244,
     "status": "ok",
     "timestamp": 1738098480398,
     "user": {
      "displayName": "Soham Chakraborty",
      "userId": "12202572108961383359"
     },
     "user_tz": -60
    },
    "id": "UT6bP5l9m1dV",
    "outputId": "bb95f263-a929-46f6-d5ce-a83d7f9e3d20"
   },
   "outputs": [
    {
     "data": {
      "text/html": [
       "<div>\n",
       "<style scoped>\n",
       "    .dataframe tbody tr th:only-of-type {\n",
       "        vertical-align: middle;\n",
       "    }\n",
       "\n",
       "    .dataframe tbody tr th {\n",
       "        vertical-align: top;\n",
       "    }\n",
       "\n",
       "    .dataframe thead th {\n",
       "        text-align: right;\n",
       "    }\n",
       "</style>\n",
       "<table border=\"1\" class=\"dataframe\">\n",
       "  <thead>\n",
       "    <tr style=\"text-align: right;\">\n",
       "      <th></th>\n",
       "      <th>userId</th>\n",
       "      <th>movieId</th>\n",
       "      <th>rating</th>\n",
       "      <th>title</th>\n",
       "      <th>genres_str</th>\n",
       "      <th>popularity</th>\n",
       "      <th>release_year</th>\n",
       "      <th>combined_features</th>\n",
       "    </tr>\n",
       "  </thead>\n",
       "  <tbody>\n",
       "    <tr>\n",
       "      <th>0</th>\n",
       "      <td>1</td>\n",
       "      <td>110</td>\n",
       "      <td>1.0</td>\n",
       "      <td>Three Colors: Red</td>\n",
       "      <td>Drama, Mystery, Romance</td>\n",
       "      <td>7.832755</td>\n",
       "      <td>1994.0</td>\n",
       "      <td>Drama, Mystery, Romance, Irène Jacob, Jean-Lou...</td>\n",
       "    </tr>\n",
       "    <tr>\n",
       "      <th>1</th>\n",
       "      <td>1</td>\n",
       "      <td>147</td>\n",
       "      <td>4.5</td>\n",
       "      <td>The 400 Blows</td>\n",
       "      <td>Drama</td>\n",
       "      <td>7.268688</td>\n",
       "      <td>1959.0</td>\n",
       "      <td>Drama, Jean-Pierre Léaud, Claire Maurier, Albe...</td>\n",
       "    </tr>\n",
       "    <tr>\n",
       "      <th>2</th>\n",
       "      <td>1</td>\n",
       "      <td>858</td>\n",
       "      <td>5.0</td>\n",
       "      <td>Sleepless in Seattle</td>\n",
       "      <td>Comedy, Drama, Romance</td>\n",
       "      <td>10.234919</td>\n",
       "      <td>1993.0</td>\n",
       "      <td>Comedy, Drama, Romance, Tom Hanks, Meg Ryan, B...</td>\n",
       "    </tr>\n",
       "    <tr>\n",
       "      <th>3</th>\n",
       "      <td>1</td>\n",
       "      <td>1246</td>\n",
       "      <td>5.0</td>\n",
       "      <td>Rocky Balboa</td>\n",
       "      <td>Drama</td>\n",
       "      <td>11.697604</td>\n",
       "      <td>2006.0</td>\n",
       "      <td>Drama, Sylvester Stallone, Burt Young, Milo Ve...</td>\n",
       "    </tr>\n",
       "    <tr>\n",
       "      <th>4</th>\n",
       "      <td>1</td>\n",
       "      <td>1968</td>\n",
       "      <td>4.0</td>\n",
       "      <td>Fools Rush In</td>\n",
       "      <td>Drama, Comedy, Romance</td>\n",
       "      <td>6.285574</td>\n",
       "      <td>1997.0</td>\n",
       "      <td>Drama, Comedy, Romance, Matthew Perry, Salma H...</td>\n",
       "    </tr>\n",
       "  </tbody>\n",
       "</table>\n",
       "</div>"
      ],
      "text/plain": [
       "   userId  movieId  rating                 title               genres_str  \\\n",
       "0       1      110     1.0     Three Colors: Red  Drama, Mystery, Romance   \n",
       "1       1      147     4.5         The 400 Blows                    Drama   \n",
       "2       1      858     5.0  Sleepless in Seattle   Comedy, Drama, Romance   \n",
       "3       1     1246     5.0          Rocky Balboa                    Drama   \n",
       "4       1     1968     4.0         Fools Rush In   Drama, Comedy, Romance   \n",
       "\n",
       "   popularity release_year                                  combined_features  \n",
       "0    7.832755       1994.0  Drama, Mystery, Romance, Irène Jacob, Jean-Lou...  \n",
       "1    7.268688       1959.0  Drama, Jean-Pierre Léaud, Claire Maurier, Albe...  \n",
       "2   10.234919       1993.0  Comedy, Drama, Romance, Tom Hanks, Meg Ryan, B...  \n",
       "3   11.697604       2006.0  Drama, Sylvester Stallone, Burt Young, Milo Ve...  \n",
       "4    6.285574       1997.0  Drama, Comedy, Romance, Matthew Perry, Salma H...  "
      ]
     },
     "execution_count": 10,
     "metadata": {},
     "output_type": "execute_result"
    }
   ],
   "source": [
    "movies_ratings.head()"
   ]
  },
  {
   "cell_type": "code",
   "execution_count": 11,
   "metadata": {
    "executionInfo": {
     "elapsed": 1598,
     "status": "ok",
     "timestamp": 1738098490108,
     "user": {
      "displayName": "Soham Chakraborty",
      "userId": "12202572108961383359"
     },
     "user_tz": -60
    },
    "id": "FpGF4gaZBiNt"
   },
   "outputs": [],
   "source": [
    "# Reduce dataset size for efficient training\n",
    "# movies_ratings = movies_ratings.sample(n=80000, random_state=42).reset_index(drop=True)\n",
    "\n",
    "# Normalize ratings\n",
    "scaler = MinMaxScaler()\n",
    "movies_ratings['rating_scaled'] = scaler.fit_transform(movies_ratings[['rating']])\n",
    "\n",
    "# Map user and movie IDs\n",
    "user_ids = movies_ratings['userId'].unique()\n",
    "movie_ids = movies_ratings['movieId'].unique()\n",
    "\n",
    "user_to_index = {user: i for i, user in enumerate(user_ids)}\n",
    "movie_to_index = {movie: i for i, movie in enumerate(movie_ids)}\n",
    "\n",
    "movies_ratings['user_idx'] = movies_ratings['userId'].map(user_to_index)\n",
    "movies_ratings['movie_idx'] = movies_ratings['movieId'].map(movie_to_index)\n"
   ]
  },
  {
   "cell_type": "code",
   "execution_count": 12,
   "metadata": {
    "colab": {
     "base_uri": "https://localhost:8080/"
    },
    "executionInfo": {
     "elapsed": 9087,
     "status": "ok",
     "timestamp": 1738098601208,
     "user": {
      "displayName": "Soham Chakraborty",
      "userId": "12202572108961383359"
     },
     "user_tz": -60
    },
    "id": "ywiRHKzPfgTI",
    "outputId": "cc38cd04-ddeb-4ae7-df80-de2abb30d02b"
   },
   "outputs": [
    {
     "name": "stdout",
     "output_type": "stream",
     "text": [
      "✅ Loading Hugging Face Model from Drive...\n"
     ]
    }
   ],
   "source": [
    "# Load Hugging Face model\n",
    "MODEL_PATH = os.path.join(MODELS_PATH, \"sentence-transformers_all-MiniLM-L6-v2\")\n",
    "\n",
    "if os.path.exists(MODEL_PATH):\n",
    "    print(\"✅ Loading Hugging Face Model from Drive...\")\n",
    "    model = AutoModel.from_pretrained(MODEL_PATH)\n",
    "    tokenizer = AutoTokenizer.from_pretrained(MODEL_PATH)\n",
    "else:\n",
    "    print(\"🚀 Downloading Hugging Face Model...\")\n",
    "    MODEL_NAME = \"sentence-transformers/all-MiniLM-L6-v2\"\n",
    "    model = AutoModel.from_pretrained(MODEL_NAME)\n",
    "    tokenizer = AutoTokenizer.from_pretrained(MODEL_NAME)\n",
    "    model.save_pretrained(MODEL_PATH)\n",
    "    tokenizer.save_pretrained(MODEL_PATH)\n",
    "    print(f\"✅ Model saved at: {MODEL_PATH}\")\n",
    "\n"
   ]
  },
  {
   "cell_type": "code",
   "execution_count": 13,
   "metadata": {
    "executionInfo": {
     "elapsed": 1707011,
     "status": "ok",
     "timestamp": 1738100342783,
     "user": {
      "displayName": "Soham Chakraborty",
      "userId": "12202572108961383359"
     },
     "user_tz": -60
    },
    "id": "XjaxqJ_4fenD"
   },
   "outputs": [],
   "source": [
    "# Generate embeddings in batches\n",
    "def generate_embeddings_batch(texts, batch_size=128):\n",
    "    embeddings = []\n",
    "    for i in range(0, len(texts), batch_size):\n",
    "        batch_texts = texts[i:i+batch_size]\n",
    "        inputs = tokenizer(batch_texts, return_tensors='pt', padding=True, truncation=True)\n",
    "        with torch.no_grad():\n",
    "            outputs = model(**inputs)\n",
    "        batch_embeddings = outputs.last_hidden_state.mean(dim=1).cpu().numpy()\n",
    "        embeddings.extend(batch_embeddings)\n",
    "    return embeddings\n",
    "\n",
    "movies['embeddings'] = generate_embeddings_batch(movies['combined_features'].tolist())\n",
    "\n",
    "# Save embeddings\n",
    "MOVIES_EMBEDDINGS_PATH = os.path.join(MODELS_PATH, \"movies_with_embeddings.csv\")\n",
    "movies.to_csv(MOVIES_EMBEDDINGS_PATH, index=False)\n"
   ]
  },
  {
   "cell_type": "code",
   "execution_count": 14,
   "metadata": {
    "executionInfo": {
     "elapsed": 242,
     "status": "ok",
     "timestamp": 1738100353008,
     "user": {
      "displayName": "Soham Chakraborty",
      "userId": "12202572108961383359"
     },
     "user_tz": -60
    },
    "id": "n4MoErs0BtbM"
   },
   "outputs": [],
   "source": [
    "\n",
    "# Prepare movie embeddings matrix for similarity computation\n",
    "movie_embeddings_matrix = np.vstack(movies['embeddings'].values)\n",
    "\n",
    "# Define recommendation functions\n",
    "def recommend_movies(query, top_n=5):\n",
    "    query_embedding = generate_embeddings_batch([query])[0].reshape(1, -1)\n",
    "    similarities = cosine_similarity(query_embedding, movie_embeddings_matrix)[0]\n",
    "    movies['similarity'] = similarities\n",
    "    recommendations = movies.sort_values(by='similarity', ascending=False).head(top_n)\n",
    "    return recommendations[['title', 'similarity']]\n"
   ]
  },
  {
   "cell_type": "code",
   "execution_count": 15,
   "metadata": {
    "executionInfo": {
     "elapsed": 260,
     "status": "ok",
     "timestamp": 1738100356092,
     "user": {
      "displayName": "Soham Chakraborty",
      "userId": "12202572108961383359"
     },
     "user_tz": -60
    },
    "id": "lmmRgcs4fjRI"
   },
   "outputs": [],
   "source": [
    "def recommend_movies_svd(user_id, movies_ratings, top_n=5):\n",
    "    user_rated_movies = movies_ratings[movies_ratings['userId'] == user_id]['movieId'].tolist()\n",
    "    all_movie_ids = movies_ratings['movieId'].unique()\n",
    "    unrated_movies = [movie for movie in all_movie_ids if movie not in user_rated_movies]\n",
    "    predictions = [(movie, svd.predict(user_id, movie).est) for movie in unrated_movies]\n",
    "    top_predictions = sorted(predictions, key=lambda x: x[1], reverse=True)[:top_n]\n",
    "    recommended_movies = pd.DataFrame({\n",
    "        'movieId': [movie for movie, _ in top_predictions],\n",
    "        'predicted_rating': [rating for _, rating in top_predictions]\n",
    "    })\n",
    "    recommended_movies = recommended_movies.merge(\n",
    "        movies_ratings[['movieId', 'title', 'genres_str', 'release_year']].drop_duplicates(),\n",
    "        on='movieId'\n",
    "    )\n",
    "    return recommended_movies[['movieId', 'title', 'predicted_rating', 'release_year']].head(top_n)\n"
   ]
  },
  {
   "cell_type": "code",
   "execution_count": 16,
   "metadata": {
    "executionInfo": {
     "elapsed": 251,
     "status": "ok",
     "timestamp": 1738100359539,
     "user": {
      "displayName": "Soham Chakraborty",
      "userId": "12202572108961383359"
     },
     "user_tz": -60
    },
    "id": "L4wEqr07fkSi"
   },
   "outputs": [],
   "source": [
    "def hybrid_recommendation(user_id, genre, movies_ratings, top_n=5):\n",
    "    svd_recommendations = recommend_movies_svd(user_id, movies_ratings, top_n * 2)\n",
    "    genre_movies = movies_ratings[movies_ratings['genres_str'].str.contains(genre, case=False)]\n",
    "    genre_movies = genre_movies.drop_duplicates(subset='movieId')\n",
    "    top_genre_movies = genre_movies.sort_values(by='popularity', ascending=False).head(top_n * 2)\n",
    "    combined = pd.merge(svd_recommendations, top_genre_movies[['title', 'popularity']], on='title', how='outer')\n",
    "    combined['predicted_rating'] = combined['predicted_rating'].fillna(0)\n",
    "    combined['popularity'] = combined['popularity'].fillna(0)\n",
    "    combined['hybrid_score'] = combined['predicted_rating'] * 0.7 + combined['popularity'] * 0.3\n",
    "    return combined.sort_values(by='hybrid_score', ascending=False).head(top_n)\n"
   ]
  },
  {
   "cell_type": "markdown",
   "metadata": {
    "id": "BOScn2wjsOfX"
   },
   "source": [
    "# Model Train"
   ]
  },
  {
   "cell_type": "code",
   "execution_count": 17,
   "metadata": {
    "colab": {
     "base_uri": "https://localhost:8080/",
     "height": 407
    },
    "executionInfo": {
     "elapsed": 1192854,
     "status": "error",
     "timestamp": 1738101557172,
     "user": {
      "displayName": "Soham Chakraborty",
      "userId": "12202572108961383359"
     },
     "user_tz": -60
    },
    "id": "ji-dzJV9nTIv",
    "outputId": "920a153e-a4a6-43f7-d99e-26650451fbbf"
   },
   "outputs": [
    {
     "name": "stdout",
     "output_type": "stream",
     "text": [
      "Epoch 1/15\n",
      "\u001b[1m35781/35781\u001b[0m \u001b[32m━━━━━━━━━━━━━━━━━━━━\u001b[0m\u001b[37m\u001b[0m \u001b[1m1536s\u001b[0m 43ms/step - loss: 0.0435 - mae: 0.1603 - val_loss: 0.0365 - val_mae: 0.1458\n",
      "Epoch 2/15\n",
      "\u001b[1m35781/35781\u001b[0m \u001b[32m━━━━━━━━━━━━━━━━━━━━\u001b[0m\u001b[37m\u001b[0m \u001b[1m1565s\u001b[0m 44ms/step - loss: 0.0349 - mae: 0.1425 - val_loss: 0.0352 - val_mae: 0.1440\n",
      "Epoch 3/15\n",
      "\u001b[1m35781/35781\u001b[0m \u001b[32m━━━━━━━━━━━━━━━━━━━━\u001b[0m\u001b[37m\u001b[0m \u001b[1m1622s\u001b[0m 45ms/step - loss: 0.0323 - mae: 0.1361 - val_loss: 0.0343 - val_mae: 0.1408\n",
      "Epoch 4/15\n",
      "\u001b[1m35781/35781\u001b[0m \u001b[32m━━━━━━━━━━━━━━━━━━━━\u001b[0m\u001b[37m\u001b[0m \u001b[1m1618s\u001b[0m 45ms/step - loss: 0.0305 - mae: 0.1316 - val_loss: 0.0343 - val_mae: 0.1403\n",
      "Epoch 5/15\n",
      "\u001b[1m35781/35781\u001b[0m \u001b[32m━━━━━━━━━━━━━━━━━━━━\u001b[0m\u001b[37m\u001b[0m \u001b[1m1622s\u001b[0m 45ms/step - loss: 0.0292 - mae: 0.1282 - val_loss: 0.0340 - val_mae: 0.1401\n",
      "Epoch 6/15\n",
      "\u001b[1m35781/35781\u001b[0m \u001b[32m━━━━━━━━━━━━━━━━━━━━\u001b[0m\u001b[37m\u001b[0m \u001b[1m1505s\u001b[0m 42ms/step - loss: 0.0281 - mae: 0.1254 - val_loss: 0.0341 - val_mae: 0.1407\n",
      "Epoch 7/15\n",
      "\u001b[1m35781/35781\u001b[0m \u001b[32m━━━━━━━━━━━━━━━━━━━━\u001b[0m\u001b[37m\u001b[0m \u001b[1m1505s\u001b[0m 42ms/step - loss: 0.0271 - mae: 0.1229 - val_loss: 0.0341 - val_mae: 0.1399\n",
      "Epoch 8/15\n",
      "\u001b[1m35781/35781\u001b[0m \u001b[32m━━━━━━━━━━━━━━━━━━━━\u001b[0m\u001b[37m\u001b[0m \u001b[1m1524s\u001b[0m 42ms/step - loss: 0.0264 - mae: 0.1208 - val_loss: 0.0343 - val_mae: 0.1402\n",
      "Epoch 9/15\n",
      "\u001b[1m35781/35781\u001b[0m \u001b[32m━━━━━━━━━━━━━━━━━━━━\u001b[0m\u001b[37m\u001b[0m \u001b[1m23761s\u001b[0m 664ms/step - loss: 0.0257 - mae: 0.1192 - val_loss: 0.0342 - val_mae: 0.1402\n",
      "Epoch 10/15\n",
      "\u001b[1m35781/35781\u001b[0m \u001b[32m━━━━━━━━━━━━━━━━━━━━\u001b[0m\u001b[37m\u001b[0m \u001b[1m1539s\u001b[0m 43ms/step - loss: 0.0252 - mae: 0.1178 - val_loss: 0.0343 - val_mae: 0.1406\n"
     ]
    },
    {
     "data": {
      "text/plain": [
       "<keras.src.callbacks.history.History at 0x1e5143f89a0>"
      ]
     },
     "execution_count": 17,
     "metadata": {},
     "output_type": "execute_result"
    }
   ],
   "source": [
    "# Train Neural Network Model\n",
    "embedding_dim = 20\n",
    "user_input = layers.Input(shape=(1,), name='user_input')\n",
    "user_embedding = layers.Embedding(input_dim=len(user_ids), output_dim=embedding_dim)(user_input)\n",
    "user_vector = layers.Flatten()(user_embedding)\n",
    "\n",
    "movie_input = layers.Input(shape=(1,), name='movie_input')\n",
    "movie_embedding = layers.Embedding(input_dim=len(movie_ids), output_dim=embedding_dim)(movie_input)\n",
    "movie_vector = layers.Flatten()(movie_embedding)\n",
    "\n",
    "concatenated = layers.Concatenate()([user_vector, movie_vector])\n",
    "dense_layer_1 = layers.Dense(256, activation='relu')(concatenated)\n",
    "dropout_1 = layers.Dropout(0.3)(dense_layer_1)\n",
    "output = layers.Dense(1, activation='linear')(dropout_1)\n",
    "\n",
    "nn_model = Model(inputs=[user_input, movie_input], outputs=output)\n",
    "nn_model.compile(optimizer='adam', loss='mse', metrics=['mae'])\n",
    "\n",
    "train, test = train_test_split(movies_ratings, test_size=0.2, random_state=42)\n",
    "early_stopping = tf.keras.callbacks.EarlyStopping(patience=5, restore_best_weights=True)\n",
    "\n",
    "nn_model.fit([train['user_idx'], train['movie_idx']], train['rating_scaled'],\n",
    "             validation_data=([test['user_idx'], test['movie_idx']], test['rating_scaled']),\n",
    "             epochs=15, batch_size=256, callbacks=[early_stopping])"
   ]
  },
  {
   "cell_type": "code",
   "execution_count": 18,
   "metadata": {
    "colab": {
     "base_uri": "https://localhost:8080/"
    },
    "executionInfo": {
     "elapsed": 2062,
     "status": "ok",
     "timestamp": 1738084312353,
     "user": {
      "displayName": "Soham Chakraborty",
      "userId": "12202572108961383359"
     },
     "user_tz": -60
    },
    "id": "4v6mxwimQx-B",
    "outputId": "3286cbde-0c6e-44cc-e2e1-778486052238"
   },
   "outputs": [],
   "source": [
    "# Save Neural Network Model\n",
    "NN_MODEL_PATH = os.path.join(MODELS_PATH, \"movie_recommendation_model.keras\")\n",
    "nn_model.save(NN_MODEL_PATH)\n"
   ]
  },
  {
   "cell_type": "code",
   "execution_count": 19,
   "metadata": {
    "colab": {
     "base_uri": "https://localhost:8080/"
    },
    "executionInfo": {
     "elapsed": 156282,
     "status": "ok",
     "timestamp": 1738084472842,
     "user": {
      "displayName": "Soham Chakraborty",
      "userId": "12202572108961383359"
     },
     "user_tz": -60
    },
    "id": "ZwUZkT-XRAKN",
    "outputId": "72c726d7-38f1-413b-9f63-fff20dbeffd8"
   },
   "outputs": [
    {
     "data": {
      "text/plain": [
       "<surprise.prediction_algorithms.matrix_factorization.SVD at 0x1e513c183d0>"
      ]
     },
     "execution_count": 19,
     "metadata": {},
     "output_type": "execute_result"
    }
   ],
   "source": [
    "# Train and Save SVD Model\n",
    "reader = Reader(rating_scale=(0.5, 5.0))\n",
    "data = Dataset.load_from_df(movies_ratings[['userId', 'movieId', 'rating']], reader)\n",
    "svd = SVD()\n",
    "trainset = data.build_full_trainset()\n",
    "svd.fit(trainset)\n"
   ]
  },
  {
   "cell_type": "code",
   "execution_count": 20,
   "metadata": {
    "colab": {
     "base_uri": "https://localhost:8080/"
    },
    "executionInfo": {
     "elapsed": 22100,
     "status": "ok",
     "timestamp": 1738084587102,
     "user": {
      "displayName": "Soham Chakraborty",
      "userId": "12202572108961383359"
     },
     "user_tz": -60
    },
    "id": "p1oqk9Crcxc5",
    "outputId": "4e8e1c36-c2f8-4814-ec9d-4d0b770cca22"
   },
   "outputs": [
    {
     "name": "stdout",
     "output_type": "stream",
     "text": [
      "SVD Model Saved Successfully!\n"
     ]
    }
   ],
   "source": [
    "# Save the SVD Model\n",
    "SVD_MODEL_PATH = os.path.join(MODELS_PATH, \"svd_model.pkl\")\n",
    "with open(SVD_MODEL_PATH, 'wb') as f:\n",
    "    pickle.dump(svd, f)\n",
    "\n",
    "print(\"SVD Model Saved Successfully!\")"
   ]
  },
  {
   "cell_type": "code",
   "execution_count": 21,
   "metadata": {
    "colab": {
     "base_uri": "https://localhost:8080/"
    },
    "executionInfo": {
     "elapsed": 189715,
     "status": "ok",
     "timestamp": 1738084780555,
     "user": {
      "displayName": "Soham Chakraborty",
      "userId": "12202572108961383359"
     },
     "user_tz": -60
    },
    "id": "5tGh84M3cyqR",
    "outputId": "0741406d-f9b9-4b6d-8cf8-31b6abc2c99b"
   },
   "outputs": [
    {
     "name": "stdout",
     "output_type": "stream",
     "text": [
      "\u001b[1m71562/71562\u001b[0m \u001b[32m━━━━━━━━━━━━━━━━━━━━\u001b[0m\u001b[37m\u001b[0m \u001b[1m137s\u001b[0m 2ms/step\n",
      "✅ Neural Network Model Evaluation:\n",
      "📌 MSE: 0.6895, MAE: 0.6303, Accuracy: 0.6790, Precision: 0.7741\n"
     ]
    }
   ],
   "source": [
    "#################################################################################################################################\n",
    "#  Evaluation and Metrics - Nueral Network\n",
    "#################################################################################################################################\n",
    "\n",
    "# Evaluate Neural Network Model\n",
    "nn_predictions = nn_model.predict([test['user_idx'], test['movie_idx']])\n",
    "nn_predictions_rescaled = scaler.inverse_transform(nn_predictions)\n",
    "nn_predictions_rounded = np.clip(np.round(nn_predictions_rescaled * 2) / 2, 0.5, 5.0)\n",
    "true_ratings = test['rating']\n",
    "\n",
    "mse_nn = mean_squared_error(true_ratings, nn_predictions_rescaled)\n",
    "mae_nn = mean_absolute_error(true_ratings, nn_predictions_rescaled)\n",
    "accuracy_nn = np.mean(np.abs(nn_predictions_rounded.flatten() - true_ratings) <= 0.5)\n",
    "binary_true = (true_ratings >= 4.0).astype(int)\n",
    "binary_predicted = (nn_predictions_rounded.flatten() >= 4.0).astype(int)\n",
    "precision_nn = precision_score(binary_true, binary_predicted, zero_division=1)\n",
    "\n",
    "print(f\"✅ Neural Network Model Evaluation:\")\n",
    "print(f\"📌 MSE: {mse_nn:.4f}, MAE: {mae_nn:.4f}, Accuracy: {accuracy_nn:.4f}, Precision: {precision_nn:.4f}\")\n"
   ]
  },
  {
   "cell_type": "code",
   "execution_count": 22,
   "metadata": {
    "id": "REVn03e_lpm5"
   },
   "outputs": [
    {
     "name": "stdout",
     "output_type": "stream",
     "text": [
      "✅ SVD Model Evaluation:\n",
      "📌 MSE: 0.4640, MAE: 0.5234, Accuracy: 0.7576, Precision: 0.8459\n"
     ]
    }
   ],
   "source": [
    "#################################################################################################################################\n",
    "#  Evaluation and Metrics - SVD\n",
    "#################################################################################################################################\n",
    "\n",
    "# Evaluate SVD Model\n",
    "svd_predictions = [svd.predict(uid, mid).est for uid, mid in zip(test['userId'], test['movieId'])]\n",
    "mse_svd = mean_squared_error(true_ratings, svd_predictions)\n",
    "mae_svd = mean_absolute_error(true_ratings, svd_predictions)\n",
    "svd_predictions_rounded = np.clip(np.round(np.array(svd_predictions) * 2) / 2, 0.5, 5.0)\n",
    "accuracy_svd = np.mean(np.abs(svd_predictions_rounded - true_ratings) <= 0.5)\n",
    "binary_predicted_svd = (svd_predictions_rounded >= 4.0).astype(int)\n",
    "precision_svd = precision_score(binary_true, binary_predicted_svd, zero_division=1)\n",
    "\n",
    "print(f\"✅ SVD Model Evaluation:\")\n",
    "print(f\"📌 MSE: {mse_svd:.4f}, MAE: {mae_svd:.4f}, Accuracy: {accuracy_svd:.4f}, Precision: {precision_svd:.4f}\")\n"
   ]
  },
  {
   "cell_type": "code",
   "execution_count": 23,
   "metadata": {
    "colab": {
     "base_uri": "https://localhost:8080/"
    },
    "executionInfo": {
     "elapsed": 20647,
     "status": "ok",
     "timestamp": 1738101894952,
     "user": {
      "displayName": "Soham Chakraborty",
      "userId": "12202572108961383359"
     },
     "user_tz": -60
    },
    "id": "DYwWxUIrB_1k",
    "outputId": "9759322a-ddaa-497e-a978-63da958bc64e"
   },
   "outputs": [
    {
     "name": "stdout",
     "output_type": "stream",
     "text": [
      "\n",
      "🚀 SVD Recommendations:\n",
      "   movieId                             title  predicted_rating release_year\n",
      "0      318          The Million Dollar Hotel          4.517190       2000.0\n",
      "1    44555  A Woman, a Gun and a Noodle Shop          4.418758       2009.0\n",
      "2      527                Once Were Warriors          4.331689       1994.0\n",
      "3     2324                       Local Color          4.299826       2006.0\n",
      "4    42783                   Kissin' Cousins          4.292615       1964.0\n",
      "\n",
      "🚀 Hybrid Recommendations:\n",
      "    movieId                           title  predicted_rating release_year  \\\n",
      "12      NaN                    Pulp Fiction               0.0          NaN   \n",
      "14      NaN                 The Dark Knight               0.0          NaN   \n",
      "2       NaN                    Blade Runner               0.0          NaN   \n",
      "3       NaN  Dawn of the Planet of the Apes               0.0          NaN   \n",
      "11      NaN                          Psycho               0.0          NaN   \n",
      "\n",
      "    popularity  hybrid_score  \n",
      "12  140.950236     42.285071  \n",
      "14  123.167259     36.950178  \n",
      "2    96.272374     28.881712  \n",
      "3    75.385211     22.615563  \n",
      "11   36.826309     11.047893  \n"
     ]
    }
   ],
   "source": [
    "# Test Recommendations\n",
    "test_user_id = user_ids[5]\n",
    "print(\"\\n🚀 SVD Recommendations:\")\n",
    "print(recommend_movies_svd(test_user_id, movies_ratings, top_n=5))\n",
    "\n",
    "print(\"\\n🚀 Hybrid Recommendations:\")\n",
    "print(hybrid_recommendation(test_user_id, 'Thriller', movies_ratings, top_n=5))"
   ]
  },
  {
   "cell_type": "code",
   "execution_count": 24,
   "metadata": {
    "colab": {
     "base_uri": "https://localhost:8080/"
    },
    "executionInfo": {
     "elapsed": 456,
     "status": "ok",
     "timestamp": 1738101572142,
     "user": {
      "displayName": "Soham Chakraborty",
      "userId": "12202572108961383359"
     },
     "user_tz": -60
    },
    "id": "oaC54K8sB_-r",
    "outputId": "f1fbbc3c-22e4-4b67-8463-8df9c8d0617d"
   },
   "outputs": [
    {
     "name": "stdout",
     "output_type": "stream",
     "text": [
      "\n",
      "🚀 Query-Based Recommendations:\n",
      "                         title  similarity\n",
      "21502       The Second Arrival    0.591429\n",
      "8122   AVP: Alien vs. Predator    0.568284\n",
      "16810                     Paul    0.564755\n",
      "16901          Mars Needs Moms    0.563919\n",
      "44154   Species: The Awakening    0.561503\n"
     ]
    }
   ],
   "source": [
    "query = \"A space adventure with aliens\"\n",
    "print(\"\\n🚀 Query-Based Recommendations:\")\n",
    "print(recommend_movies(query, top_n=5))"
   ]
  },
  {
   "cell_type": "code",
   "execution_count": null,
   "metadata": {
    "id": "ou-xJmXICAEs"
   },
   "outputs": [],
   "source": []
  }
 ],
 "metadata": {
  "colab": {
   "authorship_tag": "ABX9TyMD+zSkuaiSiQpDXtw8Sgeb",
   "provenance": []
  },
  "kernelspec": {
   "display_name": "movie_rec_env",
   "language": "python",
   "name": "python3"
  },
  "language_info": {
   "codemirror_mode": {
    "name": "ipython",
    "version": 3
   },
   "file_extension": ".py",
   "mimetype": "text/x-python",
   "name": "python",
   "nbconvert_exporter": "python",
   "pygments_lexer": "ipython3",
   "version": "3.9.21"
  }
 },
 "nbformat": 4,
 "nbformat_minor": 0
}
